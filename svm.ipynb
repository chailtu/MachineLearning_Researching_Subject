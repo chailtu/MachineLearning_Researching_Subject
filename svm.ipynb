{
 "cells": [
  {
   "cell_type": "code",
   "execution_count": 1,
   "id": "3c68932f-cb78-4497-b0c7-f9b5a28c74db",
   "metadata": {},
   "outputs": [],
   "source": [
    "import pandas as pd\n",
    "import numpy as np\n",
    "import os"
   ]
  },
  {
   "cell_type": "code",
   "execution_count": 2,
   "id": "6c7f6040-50d6-4f84-8b9d-64db11ecf947",
   "metadata": {},
   "outputs": [],
   "source": [
    "def tranform_icd10(icd10):\n",
    "    list_disease = [\"I10\", \"I11\",\"I12\", \"I13\", \"I14\", \"I15\"]\n",
    "    if icd10 in list_disease:\n",
    "        return 1\n",
    "    else:\n",
    "        return 0"
   ]
  },
  {
   "cell_type": "code",
   "execution_count": 3,
   "id": "349d9630-cd51-4966-9c88-49f6d13ff4b6",
   "metadata": {},
   "outputs": [
    {
     "data": {
      "text/html": [
       "<div>\n",
       "<style scoped>\n",
       "    .dataframe tbody tr th:only-of-type {\n",
       "        vertical-align: middle;\n",
       "    }\n",
       "\n",
       "    .dataframe tbody tr th {\n",
       "        vertical-align: top;\n",
       "    }\n",
       "\n",
       "    .dataframe thead th {\n",
       "        text-align: right;\n",
       "    }\n",
       "</style>\n",
       "<table border=\"1\" class=\"dataframe\">\n",
       "  <thead>\n",
       "    <tr style=\"text-align: right;\">\n",
       "      <th></th>\n",
       "      <th>icd10</th>\n",
       "      <th>occupation</th>\n",
       "      <th>sex</th>\n",
       "      <th>age</th>\n",
       "      <th>bt</th>\n",
       "      <th>rr</th>\n",
       "      <th>height</th>\n",
       "      <th>weight</th>\n",
       "      <th>lbpn</th>\n",
       "      <th>hbpn</th>\n",
       "      <th>pr</th>\n",
       "      <th>Outcome</th>\n",
       "    </tr>\n",
       "  </thead>\n",
       "  <tbody>\n",
       "    <tr>\n",
       "      <th>0</th>\n",
       "      <td>166</td>\n",
       "      <td>903.0</td>\n",
       "      <td>1</td>\n",
       "      <td>50</td>\n",
       "      <td>37.0</td>\n",
       "      <td>18</td>\n",
       "      <td>100.0</td>\n",
       "      <td>1.0</td>\n",
       "      <td>75.0</td>\n",
       "      <td>110</td>\n",
       "      <td>75.0</td>\n",
       "      <td>0</td>\n",
       "    </tr>\n",
       "    <tr>\n",
       "      <th>1</th>\n",
       "      <td>B009/2</td>\n",
       "      <td>903.0</td>\n",
       "      <td>1</td>\n",
       "      <td>50</td>\n",
       "      <td>37.0</td>\n",
       "      <td>18</td>\n",
       "      <td>100.0</td>\n",
       "      <td>1.0</td>\n",
       "      <td>75.0</td>\n",
       "      <td>110</td>\n",
       "      <td>75.0</td>\n",
       "      <td>0</td>\n",
       "    </tr>\n",
       "    <tr>\n",
       "      <th>2</th>\n",
       "      <td>L810/2</td>\n",
       "      <td>903.0</td>\n",
       "      <td>1</td>\n",
       "      <td>50</td>\n",
       "      <td>37.0</td>\n",
       "      <td>18</td>\n",
       "      <td>100.0</td>\n",
       "      <td>1.0</td>\n",
       "      <td>75.0</td>\n",
       "      <td>110</td>\n",
       "      <td>75.0</td>\n",
       "      <td>0</td>\n",
       "    </tr>\n",
       "    <tr>\n",
       "      <th>3</th>\n",
       "      <td>Z719</td>\n",
       "      <td>903.0</td>\n",
       "      <td>1</td>\n",
       "      <td>50</td>\n",
       "      <td>37.0</td>\n",
       "      <td>18</td>\n",
       "      <td>100.0</td>\n",
       "      <td>1.0</td>\n",
       "      <td>75.0</td>\n",
       "      <td>110</td>\n",
       "      <td>75.0</td>\n",
       "      <td>0</td>\n",
       "    </tr>\n",
       "    <tr>\n",
       "      <th>4</th>\n",
       "      <td>B07</td>\n",
       "      <td>903.0</td>\n",
       "      <td>1</td>\n",
       "      <td>50</td>\n",
       "      <td>37.0</td>\n",
       "      <td>18</td>\n",
       "      <td>100.0</td>\n",
       "      <td>1.0</td>\n",
       "      <td>75.0</td>\n",
       "      <td>110</td>\n",
       "      <td>75.0</td>\n",
       "      <td>0</td>\n",
       "    </tr>\n",
       "    <tr>\n",
       "      <th>...</th>\n",
       "      <td>...</td>\n",
       "      <td>...</td>\n",
       "      <td>...</td>\n",
       "      <td>...</td>\n",
       "      <td>...</td>\n",
       "      <td>...</td>\n",
       "      <td>...</td>\n",
       "      <td>...</td>\n",
       "      <td>...</td>\n",
       "      <td>...</td>\n",
       "      <td>...</td>\n",
       "      <td>...</td>\n",
       "    </tr>\n",
       "    <tr>\n",
       "      <th>65530</th>\n",
       "      <td>R443</td>\n",
       "      <td>902.0</td>\n",
       "      <td>1</td>\n",
       "      <td>14</td>\n",
       "      <td>36.8</td>\n",
       "      <td>20</td>\n",
       "      <td>158.5</td>\n",
       "      <td>48.1</td>\n",
       "      <td>74.0</td>\n",
       "      <td>105</td>\n",
       "      <td>101.0</td>\n",
       "      <td>0</td>\n",
       "    </tr>\n",
       "    <tr>\n",
       "      <th>65531</th>\n",
       "      <td>E119</td>\n",
       "      <td>903.0</td>\n",
       "      <td>1</td>\n",
       "      <td>71</td>\n",
       "      <td>36.6</td>\n",
       "      <td>20</td>\n",
       "      <td>155.0</td>\n",
       "      <td>48.1</td>\n",
       "      <td>60.0</td>\n",
       "      <td>113</td>\n",
       "      <td>82.0</td>\n",
       "      <td>0</td>\n",
       "    </tr>\n",
       "    <tr>\n",
       "      <th>65532</th>\n",
       "      <td>A090</td>\n",
       "      <td>403.0</td>\n",
       "      <td>1</td>\n",
       "      <td>50</td>\n",
       "      <td>36.4</td>\n",
       "      <td>20</td>\n",
       "      <td>156.0</td>\n",
       "      <td>48.1</td>\n",
       "      <td>61.0</td>\n",
       "      <td>109</td>\n",
       "      <td>81.0</td>\n",
       "      <td>0</td>\n",
       "    </tr>\n",
       "    <tr>\n",
       "      <th>65533</th>\n",
       "      <td>D561</td>\n",
       "      <td>719.0</td>\n",
       "      <td>0</td>\n",
       "      <td>42</td>\n",
       "      <td>36.0</td>\n",
       "      <td>20</td>\n",
       "      <td>169.0</td>\n",
       "      <td>48.1</td>\n",
       "      <td>59.0</td>\n",
       "      <td>99</td>\n",
       "      <td>82.0</td>\n",
       "      <td>0</td>\n",
       "    </tr>\n",
       "    <tr>\n",
       "      <th>65534</th>\n",
       "      <td>Z123</td>\n",
       "      <td>719.0</td>\n",
       "      <td>1</td>\n",
       "      <td>40</td>\n",
       "      <td>36.4</td>\n",
       "      <td>20</td>\n",
       "      <td>152.0</td>\n",
       "      <td>48.1</td>\n",
       "      <td>77.0</td>\n",
       "      <td>114</td>\n",
       "      <td>94.0</td>\n",
       "      <td>0</td>\n",
       "    </tr>\n",
       "  </tbody>\n",
       "</table>\n",
       "<p>65535 rows × 12 columns</p>\n",
       "</div>"
      ],
      "text/plain": [
       "        icd10  occupation  sex  age    bt  rr  height  weight  lbpn  hbpn  \\\n",
       "0         166       903.0    1   50  37.0  18   100.0     1.0  75.0   110   \n",
       "1      B009/2       903.0    1   50  37.0  18   100.0     1.0  75.0   110   \n",
       "2      L810/2       903.0    1   50  37.0  18   100.0     1.0  75.0   110   \n",
       "3        Z719       903.0    1   50  37.0  18   100.0     1.0  75.0   110   \n",
       "4         B07       903.0    1   50  37.0  18   100.0     1.0  75.0   110   \n",
       "...       ...         ...  ...  ...   ...  ..     ...     ...   ...   ...   \n",
       "65530    R443       902.0    1   14  36.8  20   158.5    48.1  74.0   105   \n",
       "65531    E119       903.0    1   71  36.6  20   155.0    48.1  60.0   113   \n",
       "65532    A090       403.0    1   50  36.4  20   156.0    48.1  61.0   109   \n",
       "65533    D561       719.0    0   42  36.0  20   169.0    48.1  59.0    99   \n",
       "65534    Z123       719.0    1   40  36.4  20   152.0    48.1  77.0   114   \n",
       "\n",
       "          pr  Outcome  \n",
       "0       75.0        0  \n",
       "1       75.0        0  \n",
       "2       75.0        0  \n",
       "3       75.0        0  \n",
       "4       75.0        0  \n",
       "...      ...      ...  \n",
       "65530  101.0        0  \n",
       "65531   82.0        0  \n",
       "65532   81.0        0  \n",
       "65533   82.0        0  \n",
       "65534   94.0        0  \n",
       "\n",
       "[65535 rows x 12 columns]"
      ]
     },
     "execution_count": 3,
     "metadata": {},
     "output_type": "execute_result"
    }
   ],
   "source": [
    "df = pd.read_csv('./dataset/BPDataset.csv')\n",
    "df"
   ]
  },
  {
   "cell_type": "code",
   "execution_count": 4,
   "id": "7a169e05-8f4e-431e-99d5-c53fccbdc5ba",
   "metadata": {},
   "outputs": [
    {
     "data": {
      "text/html": [
       "<div>\n",
       "<style scoped>\n",
       "    .dataframe tbody tr th:only-of-type {\n",
       "        vertical-align: middle;\n",
       "    }\n",
       "\n",
       "    .dataframe tbody tr th {\n",
       "        vertical-align: top;\n",
       "    }\n",
       "\n",
       "    .dataframe thead th {\n",
       "        text-align: right;\n",
       "    }\n",
       "</style>\n",
       "<table border=\"1\" class=\"dataframe\">\n",
       "  <thead>\n",
       "    <tr style=\"text-align: right;\">\n",
       "      <th></th>\n",
       "      <th>icd10</th>\n",
       "      <th>occupation</th>\n",
       "      <th>sex</th>\n",
       "      <th>age</th>\n",
       "      <th>bt</th>\n",
       "      <th>rr</th>\n",
       "      <th>height</th>\n",
       "      <th>weight</th>\n",
       "      <th>lbpn</th>\n",
       "      <th>hbpn</th>\n",
       "      <th>pr</th>\n",
       "      <th>Outcome</th>\n",
       "    </tr>\n",
       "  </thead>\n",
       "  <tbody>\n",
       "    <tr>\n",
       "      <th>0</th>\n",
       "      <td>0</td>\n",
       "      <td>903.0</td>\n",
       "      <td>1</td>\n",
       "      <td>50</td>\n",
       "      <td>37.0</td>\n",
       "      <td>18</td>\n",
       "      <td>100.0</td>\n",
       "      <td>1.0</td>\n",
       "      <td>75.0</td>\n",
       "      <td>110</td>\n",
       "      <td>75.0</td>\n",
       "      <td>0</td>\n",
       "    </tr>\n",
       "    <tr>\n",
       "      <th>1</th>\n",
       "      <td>0</td>\n",
       "      <td>903.0</td>\n",
       "      <td>1</td>\n",
       "      <td>50</td>\n",
       "      <td>37.0</td>\n",
       "      <td>18</td>\n",
       "      <td>100.0</td>\n",
       "      <td>1.0</td>\n",
       "      <td>75.0</td>\n",
       "      <td>110</td>\n",
       "      <td>75.0</td>\n",
       "      <td>0</td>\n",
       "    </tr>\n",
       "    <tr>\n",
       "      <th>2</th>\n",
       "      <td>0</td>\n",
       "      <td>903.0</td>\n",
       "      <td>1</td>\n",
       "      <td>50</td>\n",
       "      <td>37.0</td>\n",
       "      <td>18</td>\n",
       "      <td>100.0</td>\n",
       "      <td>1.0</td>\n",
       "      <td>75.0</td>\n",
       "      <td>110</td>\n",
       "      <td>75.0</td>\n",
       "      <td>0</td>\n",
       "    </tr>\n",
       "    <tr>\n",
       "      <th>3</th>\n",
       "      <td>0</td>\n",
       "      <td>903.0</td>\n",
       "      <td>1</td>\n",
       "      <td>50</td>\n",
       "      <td>37.0</td>\n",
       "      <td>18</td>\n",
       "      <td>100.0</td>\n",
       "      <td>1.0</td>\n",
       "      <td>75.0</td>\n",
       "      <td>110</td>\n",
       "      <td>75.0</td>\n",
       "      <td>0</td>\n",
       "    </tr>\n",
       "    <tr>\n",
       "      <th>4</th>\n",
       "      <td>0</td>\n",
       "      <td>903.0</td>\n",
       "      <td>1</td>\n",
       "      <td>50</td>\n",
       "      <td>37.0</td>\n",
       "      <td>18</td>\n",
       "      <td>100.0</td>\n",
       "      <td>1.0</td>\n",
       "      <td>75.0</td>\n",
       "      <td>110</td>\n",
       "      <td>75.0</td>\n",
       "      <td>0</td>\n",
       "    </tr>\n",
       "    <tr>\n",
       "      <th>...</th>\n",
       "      <td>...</td>\n",
       "      <td>...</td>\n",
       "      <td>...</td>\n",
       "      <td>...</td>\n",
       "      <td>...</td>\n",
       "      <td>...</td>\n",
       "      <td>...</td>\n",
       "      <td>...</td>\n",
       "      <td>...</td>\n",
       "      <td>...</td>\n",
       "      <td>...</td>\n",
       "      <td>...</td>\n",
       "    </tr>\n",
       "    <tr>\n",
       "      <th>65530</th>\n",
       "      <td>0</td>\n",
       "      <td>902.0</td>\n",
       "      <td>1</td>\n",
       "      <td>14</td>\n",
       "      <td>36.8</td>\n",
       "      <td>20</td>\n",
       "      <td>158.5</td>\n",
       "      <td>48.1</td>\n",
       "      <td>74.0</td>\n",
       "      <td>105</td>\n",
       "      <td>101.0</td>\n",
       "      <td>0</td>\n",
       "    </tr>\n",
       "    <tr>\n",
       "      <th>65531</th>\n",
       "      <td>0</td>\n",
       "      <td>903.0</td>\n",
       "      <td>1</td>\n",
       "      <td>71</td>\n",
       "      <td>36.6</td>\n",
       "      <td>20</td>\n",
       "      <td>155.0</td>\n",
       "      <td>48.1</td>\n",
       "      <td>60.0</td>\n",
       "      <td>113</td>\n",
       "      <td>82.0</td>\n",
       "      <td>0</td>\n",
       "    </tr>\n",
       "    <tr>\n",
       "      <th>65532</th>\n",
       "      <td>0</td>\n",
       "      <td>403.0</td>\n",
       "      <td>1</td>\n",
       "      <td>50</td>\n",
       "      <td>36.4</td>\n",
       "      <td>20</td>\n",
       "      <td>156.0</td>\n",
       "      <td>48.1</td>\n",
       "      <td>61.0</td>\n",
       "      <td>109</td>\n",
       "      <td>81.0</td>\n",
       "      <td>0</td>\n",
       "    </tr>\n",
       "    <tr>\n",
       "      <th>65533</th>\n",
       "      <td>0</td>\n",
       "      <td>719.0</td>\n",
       "      <td>0</td>\n",
       "      <td>42</td>\n",
       "      <td>36.0</td>\n",
       "      <td>20</td>\n",
       "      <td>169.0</td>\n",
       "      <td>48.1</td>\n",
       "      <td>59.0</td>\n",
       "      <td>99</td>\n",
       "      <td>82.0</td>\n",
       "      <td>0</td>\n",
       "    </tr>\n",
       "    <tr>\n",
       "      <th>65534</th>\n",
       "      <td>0</td>\n",
       "      <td>719.0</td>\n",
       "      <td>1</td>\n",
       "      <td>40</td>\n",
       "      <td>36.4</td>\n",
       "      <td>20</td>\n",
       "      <td>152.0</td>\n",
       "      <td>48.1</td>\n",
       "      <td>77.0</td>\n",
       "      <td>114</td>\n",
       "      <td>94.0</td>\n",
       "      <td>0</td>\n",
       "    </tr>\n",
       "  </tbody>\n",
       "</table>\n",
       "<p>61801 rows × 12 columns</p>\n",
       "</div>"
      ],
      "text/plain": [
       "       icd10  occupation  sex  age    bt  rr  height  weight  lbpn  hbpn  \\\n",
       "0          0       903.0    1   50  37.0  18   100.0     1.0  75.0   110   \n",
       "1          0       903.0    1   50  37.0  18   100.0     1.0  75.0   110   \n",
       "2          0       903.0    1   50  37.0  18   100.0     1.0  75.0   110   \n",
       "3          0       903.0    1   50  37.0  18   100.0     1.0  75.0   110   \n",
       "4          0       903.0    1   50  37.0  18   100.0     1.0  75.0   110   \n",
       "...      ...         ...  ...  ...   ...  ..     ...     ...   ...   ...   \n",
       "65530      0       902.0    1   14  36.8  20   158.5    48.1  74.0   105   \n",
       "65531      0       903.0    1   71  36.6  20   155.0    48.1  60.0   113   \n",
       "65532      0       403.0    1   50  36.4  20   156.0    48.1  61.0   109   \n",
       "65533      0       719.0    0   42  36.0  20   169.0    48.1  59.0    99   \n",
       "65534      0       719.0    1   40  36.4  20   152.0    48.1  77.0   114   \n",
       "\n",
       "          pr  Outcome  \n",
       "0       75.0        0  \n",
       "1       75.0        0  \n",
       "2       75.0        0  \n",
       "3       75.0        0  \n",
       "4       75.0        0  \n",
       "...      ...      ...  \n",
       "65530  101.0        0  \n",
       "65531   82.0        0  \n",
       "65532   81.0        0  \n",
       "65533   82.0        0  \n",
       "65534   94.0        0  \n",
       "\n",
       "[61801 rows x 12 columns]"
      ]
     },
     "execution_count": 4,
     "metadata": {},
     "output_type": "execute_result"
    }
   ],
   "source": [
    "df = df.dropna()\n",
    "df = df.replace(np.nan, 0)\n",
    "df[\"icd10\"] = df[\"icd10\"].apply(tranform_icd10)\n",
    "df"
   ]
  },
  {
   "cell_type": "code",
   "execution_count": 6,
   "id": "2b18d2c5-fd9b-4316-b070-1c6d8411b0a3",
   "metadata": {},
   "outputs": [],
   "source": [
    "from sklearn import svm\n",
    "from sklearn.model_selection import train_test_split"
   ]
  },
  {
   "cell_type": "code",
   "execution_count": 7,
   "id": "42839e73-05c3-48d0-b0da-9f6d678a382c",
   "metadata": {},
   "outputs": [],
   "source": [
    "y = df[['icd10']]\n",
    "x = df.drop('icd10', axis=1)"
   ]
  },
  {
   "cell_type": "code",
   "execution_count": 8,
   "id": "e474fcec-91e6-48f4-b689-f84c9f1b21d9",
   "metadata": {},
   "outputs": [],
   "source": [
    "x_train, x_test, y_train, y_test = train_test_split(x, y, test_size = 0.2)"
   ]
  },
  {
   "cell_type": "code",
   "execution_count": 10,
   "id": "bcb386aa-0f08-46e8-a35a-9ba48d91c45e",
   "metadata": {},
   "outputs": [],
   "source": [
    "from sklearn.preprocessing import StandardScaler"
   ]
  },
  {
   "cell_type": "code",
   "execution_count": 13,
   "id": "870c258d-d4f5-4046-b871-99c417fdebb4",
   "metadata": {},
   "outputs": [
    {
     "name": "stderr",
     "output_type": "stream",
     "text": [
      "/usr/local/lib/python3.9/site-packages/sklearn/base.py:443: UserWarning: X has feature names, but StandardScaler was fitted without feature names\n",
      "  warnings.warn(\n"
     ]
    }
   ],
   "source": [
    "scaler = StandardScaler()\n",
    "x_train = scaler.fit_transform(x_train)\n",
    "x_test = scaler.transform(x_test)"
   ]
  },
  {
   "cell_type": "code",
   "execution_count": 14,
   "id": "3bd30b1d-65cf-47a0-85e0-4de6473b2d60",
   "metadata": {},
   "outputs": [],
   "source": [
    "clf = svm.SVC()"
   ]
  },
  {
   "cell_type": "code",
   "execution_count": 15,
   "id": "1ea53693-2e7e-4737-ac52-1282fe086a2a",
   "metadata": {},
   "outputs": [
    {
     "name": "stderr",
     "output_type": "stream",
     "text": [
      "/usr/local/lib/python3.9/site-packages/sklearn/utils/validation.py:993: DataConversionWarning: A column-vector y was passed when a 1d array was expected. Please change the shape of y to (n_samples, ), for example using ravel().\n",
      "  y = column_or_1d(y, warn=True)\n"
     ]
    },
    {
     "data": {
      "text/plain": [
       "SVC()"
      ]
     },
     "execution_count": 15,
     "metadata": {},
     "output_type": "execute_result"
    }
   ],
   "source": [
    "clf.fit(x_train, y_train)"
   ]
  },
  {
   "cell_type": "code",
   "execution_count": 16,
   "id": "81b84096-c8f6-40e5-81b4-afdec523191b",
   "metadata": {},
   "outputs": [
    {
     "data": {
      "text/plain": [
       "0.9963996763754045"
      ]
     },
     "execution_count": 16,
     "metadata": {},
     "output_type": "execute_result"
    }
   ],
   "source": [
    "clf.score(x_train, y_train)"
   ]
  },
  {
   "cell_type": "code",
   "execution_count": 17,
   "id": "1d035df0-dfdf-4565-89e0-0f81fd756bba",
   "metadata": {},
   "outputs": [],
   "source": [
    "x_pred_sc = scaler.transform(x_test)\n",
    "y_pred = clf.predict(x_pred_sc)"
   ]
  },
  {
   "cell_type": "code",
   "execution_count": 18,
   "id": "c95ba3a8-05a2-44a0-aad4-485ff67fd426",
   "metadata": {},
   "outputs": [],
   "source": [
    "from sklearn.metrics import confusion_matrix, classification_report\n",
    "from sklearn.metrics import accuracy_score"
   ]
  },
  {
   "cell_type": "code",
   "execution_count": 28,
   "id": "68a7e1b5-050c-4fc1-abe9-092cfda5a14e",
   "metadata": {},
   "outputs": [
    {
     "name": "stdout",
     "output_type": "stream",
     "text": [
      "Accuarcy: 0.9733\n"
     ]
    }
   ],
   "source": [
    "print('Accuarcy:', '{:.4f}'.format(accuracy_score(y_test,y_pred)))"
   ]
  },
  {
   "cell_type": "code",
   "execution_count": 24,
   "id": "be6f47e8-e61f-4ac2-8618-38cbe2d8915c",
   "metadata": {},
   "outputs": [],
   "source": [
    "cfmx = confusion_matrix(y_test,y_pred)"
   ]
  },
  {
   "cell_type": "code",
   "execution_count": 25,
   "id": "5ba04504-3653-4859-a597-deb8583647ae",
   "metadata": {},
   "outputs": [
    {
     "data": {
      "text/plain": [
       "array([[12031,     0],\n",
       "       [  330,     0]])"
      ]
     },
     "execution_count": 25,
     "metadata": {},
     "output_type": "execute_result"
    }
   ],
   "source": [
    "cfmx"
   ]
  },
  {
   "cell_type": "code",
   "execution_count": 26,
   "id": "b09aeabe-e5fc-4009-a8e5-2929abfe6c62",
   "metadata": {},
   "outputs": [],
   "source": [
    "err = (cfmx[0,1] + cfmx[1,0]) / int(y_test.count())"
   ]
  },
  {
   "cell_type": "code",
   "execution_count": 27,
   "id": "cfa763c6-aee4-42bc-b74b-6b18d3327e04",
   "metadata": {},
   "outputs": [
    {
     "name": "stdout",
     "output_type": "stream",
     "text": [
      "error rate: 0.03\n"
     ]
    }
   ],
   "source": [
    "print('error rate:', '{:.2f}'.format(err))"
   ]
  },
  {
   "cell_type": "code",
   "execution_count": null,
   "id": "766761dd-47f5-4eec-b396-dc20793956ed",
   "metadata": {},
   "outputs": [],
   "source": []
  }
 ],
 "metadata": {
  "kernelspec": {
   "display_name": "Python 3 (ipykernel)",
   "language": "python",
   "name": "python3"
  },
  "language_info": {
   "codemirror_mode": {
    "name": "ipython",
    "version": 3
   },
   "file_extension": ".py",
   "mimetype": "text/x-python",
   "name": "python",
   "nbconvert_exporter": "python",
   "pygments_lexer": "ipython3",
   "version": "3.9.10"
  }
 },
 "nbformat": 4,
 "nbformat_minor": 5
}
