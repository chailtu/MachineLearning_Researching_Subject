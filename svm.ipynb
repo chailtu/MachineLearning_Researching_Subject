{
 "cells": [
  {
   "cell_type": "code",
   "execution_count": 2,
   "id": "c1ca3dcf-7a53-4592-88f2-38787a0d8935",
   "metadata": {},
   "outputs": [
    {
     "name": "stderr",
     "output_type": "stream",
     "text": [
      "/usr/local/lib/python3.9/site-packages/sklearn/utils/validation.py:993: DataConversionWarning: A column-vector y was passed when a 1d array was expected. Please change the shape of y to (n_samples, ), for example using ravel().\n",
      "  y = column_or_1d(y, warn=True)\n"
     ]
    },
    {
     "name": "stdout",
     "output_type": "stream",
     "text": [
      "[[ 5580    47]\n",
      " [ 6628 21233]]\n",
      "Accuarcy: 0.8007\n",
      "Precision: 0.9978\n",
      "Recall: 0.7621\n",
      "F1: 0.8642\n",
      "Error Rate: 0.1993\n",
      "CPU times: user 1min 53s, sys: 902 ms, total: 1min 54s\n",
      "Wall time: 1min 55s\n"
     ]
    }
   ],
   "source": [
    " %%time\n",
    "import pandas as pd\n",
    "import numpy as np\n",
    "import os\n",
    "\n",
    "from sklearn.preprocessing import StandardScaler\n",
    "\n",
    "from sklearn.metrics import confusion_matrix, classification_report\n",
    "\n",
    "from sklearn import svm\n",
    "clf = svm.SVC()\n",
    "\n",
    "training = pd.read_csv('./dataset/training.csv')\n",
    "test = pd.read_csv('./dataset/test.csv')\n",
    "\n",
    "test.columns = training.columns.str.replace('result_0_1', 'icd10')\n",
    "training.columns = training.columns.str.replace('result_0_1', 'icd10')\n",
    "\n",
    "y_test,x_test = test[['icd10']],test.drop('icd10', axis=1)\n",
    "y_train,x_train = training[['icd10']],training.drop('icd10', axis=1)\n",
    "\n",
    "scaler = StandardScaler()\n",
    "x_train_sc = scaler.fit_transform(x_train)\n",
    "x_pred_sc = scaler.transform(x_test)\n",
    "\n",
    "clf.fit(x_train_sc, y_train)\n",
    "y_pred = clf.predict(x_pred_sc)\n",
    "\n",
    "cfmx = confusion_matrix(y_test,y_pred)\n",
    "\n",
    "print(cfmx)\n",
    "\n",
    "err = (cfmx[0,1] + cfmx[1,0]) / int(y_test.count())\n",
    "\n",
    "from sklearn.metrics import accuracy_score, precision_score, recall_score, f1_score\n",
    "print('Accuarcy:', '{:.4f}'.format(accuracy_score(y_test,y_pred)))\n",
    "print('Precision:', '{:.4f}'.format(precision_score(y_test,y_pred)))\n",
    "print('Recall:', '{:.4f}'.format(recall_score(y_test,y_pred)))\n",
    "print('F1:', '{:.4f}'.format(f1_score(y_test,y_pred)))\n",
    "print('Error Rate: {:.4f}'.format(err))"
   ]
  },
  {
   "cell_type": "code",
   "execution_count": null,
   "id": "766761dd-47f5-4eec-b396-dc20793956ed",
   "metadata": {},
   "outputs": [],
   "source": []
  }
 ],
 "metadata": {
  "kernelspec": {
   "display_name": "Python 3 (ipykernel)",
   "language": "python",
   "name": "python3"
  },
  "language_info": {
   "codemirror_mode": {
    "name": "ipython",
    "version": 3
   },
   "file_extension": ".py",
   "mimetype": "text/x-python",
   "name": "python",
   "nbconvert_exporter": "python",
   "pygments_lexer": "ipython3",
   "version": "3.9.10"
  }
 },
 "nbformat": 4,
 "nbformat_minor": 5
}
