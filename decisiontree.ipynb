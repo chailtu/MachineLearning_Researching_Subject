{
 "cells": [
  {
   "cell_type": "code",
   "execution_count": 1,
   "id": "67e71b8f-ee03-438a-8dce-ac15bec6b19e",
   "metadata": {},
   "outputs": [
    {
     "ename": "SyntaxError",
     "evalue": "invalid syntax (3980511765.py, line 1)",
     "output_type": "error",
     "traceback": [
      "\u001b[0;36m  Input \u001b[0;32mIn [1]\u001b[0;36m\u001b[0m\n\u001b[0;31m    decision tree\u001b[0m\n\u001b[0m             ^\u001b[0m\n\u001b[0;31mSyntaxError\u001b[0m\u001b[0;31m:\u001b[0m invalid syntax\n"
     ]
    }
   ],
   "source": [
    "decision tree"
   ]
  },
  {
   "cell_type": "code",
   "execution_count": 2,
   "id": "31f8c360-d680-4c2b-8864-e2d68e46e917",
   "metadata": {},
   "outputs": [],
   "source": [
    "import pandas as pd\n",
    "import numpy as np\n",
    "import os"
   ]
  },
  {
   "cell_type": "code",
   "execution_count": 3,
   "id": "4740d164-8983-4a1c-b2da-00a9bd6f420d",
   "metadata": {},
   "outputs": [],
   "source": [
    "def tranform_icd10(icd10):\n",
    "    list_disease = [\"I10\", \"I11\",\"I12\", \"I13\", \"I14\", \"I15\"]\n",
    "    if icd10 in list_disease:\n",
    "        return 1\n",
    "    else:\n",
    "        return 0"
   ]
  },
  {
   "cell_type": "code",
   "execution_count": 4,
   "id": "754483a0-e894-4d28-8550-68251fedfdd4",
   "metadata": {},
   "outputs": [],
   "source": [
    "df = pd.read_csv('./dataset/BPDataset.csv')"
   ]
  },
  {
   "cell_type": "code",
   "execution_count": 5,
   "id": "2da06a01-4dde-43c1-ae96-269e5f7a9725",
   "metadata": {},
   "outputs": [],
   "source": [
    "df = df.dropna()\n",
    "df = df.replace(np.nan, 0)\n",
    "df[\"icd10\"] = df[\"icd10\"].apply(tranform_icd10)"
   ]
  },
  {
   "cell_type": "code",
   "execution_count": 6,
   "id": "7d730eef-a138-4532-80aa-b5d7bcf0a57c",
   "metadata": {},
   "outputs": [],
   "source": [
    "from sklearn.model_selection import train_test_split"
   ]
  },
  {
   "cell_type": "code",
   "execution_count": 7,
   "id": "22619fd6-36db-4256-a96a-726a074c06d6",
   "metadata": {},
   "outputs": [],
   "source": [
    "y = df[['icd10']]\n",
    "x = df.drop('icd10', axis=1)"
   ]
  },
  {
   "cell_type": "code",
   "execution_count": 8,
   "id": "4d2cbeeb-c47d-4883-9094-83a3293e5dde",
   "metadata": {},
   "outputs": [],
   "source": [
    "x_train, x_test, y_train, y_test = train_test_split(x, y, test_size = 0.2)"
   ]
  },
  {
   "cell_type": "code",
   "execution_count": 9,
   "id": "d1b9b08e-48f1-44f9-870e-e5d6ca57eddd",
   "metadata": {},
   "outputs": [],
   "source": [
    "from sklearn.preprocessing import StandardScaler"
   ]
  },
  {
   "cell_type": "code",
   "execution_count": 10,
   "id": "e775d5e3-a4d8-4e86-be34-37446c430156",
   "metadata": {},
   "outputs": [],
   "source": [
    "scaler = StandardScaler()"
   ]
  },
  {
   "cell_type": "code",
   "execution_count": 11,
   "id": "082a2e39-6c1b-4b04-92f8-9b2231e73fd5",
   "metadata": {},
   "outputs": [],
   "source": [
    "x_train = scaler.fit_transform(x_train)"
   ]
  },
  {
   "cell_type": "code",
   "execution_count": 12,
   "id": "6d9c3875-4af4-498d-81b4-a8f1fb34b0ca",
   "metadata": {},
   "outputs": [],
   "source": [
    "x_test = scaler.transform(x_test)"
   ]
  },
  {
   "cell_type": "code",
   "execution_count": 15,
   "id": "739398ec-804a-49c7-b53b-b005243a9628",
   "metadata": {},
   "outputs": [
    {
     "name": "stderr",
     "output_type": "stream",
     "text": [
      "/usr/local/lib/python3.9/site-packages/sklearn/base.py:450: UserWarning: X does not have valid feature names, but StandardScaler was fitted with feature names\n",
      "  warnings.warn(\n"
     ]
    }
   ],
   "source": [
    "x_pred_sc = scaler.transform(x_test)"
   ]
  },
  {
   "cell_type": "code",
   "execution_count": 13,
   "id": "3bd5fedb-d8b8-407b-bb3b-4004d13ff9d1",
   "metadata": {},
   "outputs": [],
   "source": [
    "from sklearn import tree"
   ]
  },
  {
   "cell_type": "code",
   "execution_count": 14,
   "id": "499e7e57-b152-41bf-a3ea-22aa7b56d17c",
   "metadata": {},
   "outputs": [],
   "source": [
    "clf = tree.DecisionTreeClassifier()"
   ]
  },
  {
   "cell_type": "code",
   "execution_count": 16,
   "id": "20039ca8-5005-454e-aeb5-b9077a87a2e8",
   "metadata": {},
   "outputs": [],
   "source": [
    "clf = clf.fit(x_train, y_train)"
   ]
  },
  {
   "cell_type": "code",
   "execution_count": 20,
   "id": "6b11b71f-798c-4538-9a2a-81213b8da4fd",
   "metadata": {},
   "outputs": [],
   "source": [
    "y_pred = clf.predict(x_pred_sc)"
   ]
  },
  {
   "cell_type": "code",
   "execution_count": 23,
   "id": "a09cd2ee-06f1-4ae6-af3a-594828bf32e2",
   "metadata": {},
   "outputs": [],
   "source": [
    "from sklearn.metrics import confusion_matrix, classification_report\n",
    "from sklearn.metrics import accuracy_score, precision_score\n",
    "from sklearn.metrics import recall_score, f1_score"
   ]
  },
  {
   "cell_type": "code",
   "execution_count": 24,
   "id": "dceee939-43b3-4045-b250-6235602510d1",
   "metadata": {},
   "outputs": [
    {
     "name": "stdout",
     "output_type": "stream",
     "text": [
      "Accuarcy: 0.9731\n"
     ]
    }
   ],
   "source": [
    "print('Accuarcy:', '{:.4f}'.format(accuracy_score(y_test,y_pred)))"
   ]
  },
  {
   "cell_type": "code",
   "execution_count": 26,
   "id": "6d725d13-1ba0-44c7-8df6-4e3696e6ba2d",
   "metadata": {},
   "outputs": [],
   "source": [
    "cfmx = confusion_matrix(y_test,y_pred)"
   ]
  },
  {
   "cell_type": "code",
   "execution_count": 27,
   "id": "a9e1328a-16e3-4b65-8826-1ed181d373bc",
   "metadata": {},
   "outputs": [
    {
     "data": {
      "text/plain": [
       "array([[12028,     0],\n",
       "       [  333,     0]])"
      ]
     },
     "execution_count": 27,
     "metadata": {},
     "output_type": "execute_result"
    }
   ],
   "source": [
    "cfmx"
   ]
  },
  {
   "cell_type": "code",
   "execution_count": 28,
   "id": "482387c5-3100-456b-9293-f2a1a2788c7c",
   "metadata": {},
   "outputs": [],
   "source": [
    "err = (cfmx[0,1] + cfmx[1,0]) / int(y_test.count())"
   ]
  },
  {
   "cell_type": "code",
   "execution_count": 29,
   "id": "44ce60eb-b708-42d0-89ae-79c73f674ff5",
   "metadata": {},
   "outputs": [
    {
     "data": {
      "text/plain": [
       "0.02693956799611682"
      ]
     },
     "execution_count": 29,
     "metadata": {},
     "output_type": "execute_result"
    }
   ],
   "source": [
    "err"
   ]
  },
  {
   "cell_type": "code",
   "execution_count": null,
   "id": "0a5b49eb-bb2f-4e20-80af-ec363eb1610d",
   "metadata": {},
   "outputs": [],
   "source": []
  }
 ],
 "metadata": {
  "kernelspec": {
   "display_name": "Python 3 (ipykernel)",
   "language": "python",
   "name": "python3"
  },
  "language_info": {
   "codemirror_mode": {
    "name": "ipython",
    "version": 3
   },
   "file_extension": ".py",
   "mimetype": "text/x-python",
   "name": "python",
   "nbconvert_exporter": "python",
   "pygments_lexer": "ipython3",
   "version": "3.9.10"
  }
 },
 "nbformat": 4,
 "nbformat_minor": 5
}
