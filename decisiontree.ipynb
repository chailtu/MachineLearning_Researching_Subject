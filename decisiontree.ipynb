{
 "cells": [
  {
   "cell_type": "code",
   "execution_count": 4,
   "id": "31f8c360-d680-4c2b-8864-e2d68e46e917",
   "metadata": {},
   "outputs": [
    {
     "name": "stdout",
     "output_type": "stream",
     "text": [
      "[[ 5627     0]\n",
      " [ 6312 21549]]\n",
      "Accuarcy: 0.8115\n",
      "Precision: 1.0000000\n",
      "Recall: 0.7734\n",
      "F1: 0.8723\n",
      "Error Rate: 0.1885\n",
      "CPU times: user 317 ms, sys: 28.3 ms, total: 345 ms\n",
      "Wall time: 345 ms\n"
     ]
    }
   ],
   "source": [
    " %%time\n",
    "import pandas as pd\n",
    "import numpy as np\n",
    "import os\n",
    "\n",
    "from sklearn.preprocessing import StandardScaler\n",
    "from sklearn import tree\n",
    "\n",
    "from sklearn.metrics import confusion_matrix, classification_report\n",
    "from sklearn.metrics import accuracy_score\n",
    "\n",
    "training = pd.read_csv('./dataset/training.csv')\n",
    "test = pd.read_csv('./dataset/test.csv')\n",
    "\n",
    "test.columns = training.columns.str.replace('result_0_1', 'icd10')\n",
    "training.columns = training.columns.str.replace('result_0_1', 'icd10')\n",
    "\n",
    "y_test,x_test = test[['icd10']],test.drop('icd10', axis=1)\n",
    "y_train,x_train = training[['icd10']],training.drop('icd10', axis=1)\n",
    "\n",
    "scaler = StandardScaler()\n",
    "x_train_sc = scaler.fit_transform(x_train)\n",
    "x_pred_sc = scaler.transform(x_test)\n",
    "\n",
    "clf = tree.DecisionTreeClassifier()\n",
    "clf = clf.fit(x_train_sc, y_train)\n",
    "y_pred = clf.predict(x_pred_sc)\n",
    "\n",
    "cfmx = confusion_matrix(y_test,y_pred)\n",
    "\n",
    "print(cfmx)\n",
    "\n",
    "err = (cfmx[0,1] + cfmx[1,0]) / int(y_test.count())\n",
    "\n",
    "from sklearn.metrics import accuracy_score, precision_score, recall_score, f1_score\n",
    "print('Accuarcy:', '{:.4f}'.format(accuracy_score(y_test,y_pred)))\n",
    "print('Precision:', '{:.7f}'.format(precision_score(y_test,y_pred)))\n",
    "print('Recall:', '{:.4f}'.format(recall_score(y_test,y_pred)))\n",
    "print('F1:', '{:.4f}'.format(f1_score(y_test,y_pred)))\n",
    "print('Error Rate: {:.4f}'.format(err))"
   ]
  },
  {
   "cell_type": "code",
   "execution_count": null,
   "id": "0a5b49eb-bb2f-4e20-80af-ec363eb1610d",
   "metadata": {},
   "outputs": [],
   "source": []
  }
 ],
 "metadata": {
  "kernelspec": {
   "display_name": "Python 3 (ipykernel)",
   "language": "python",
   "name": "python3"
  },
  "language_info": {
   "codemirror_mode": {
    "name": "ipython",
    "version": 3
   },
   "file_extension": ".py",
   "mimetype": "text/x-python",
   "name": "python",
   "nbconvert_exporter": "python",
   "pygments_lexer": "ipython3",
   "version": "3.9.10"
  }
 },
 "nbformat": 4,
 "nbformat_minor": 5
}
